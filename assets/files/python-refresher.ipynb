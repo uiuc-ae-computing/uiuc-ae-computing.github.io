{
 "cells": [
  {
   "cell_type": "markdown",
   "metadata": {},
   "source": [
    "# Assignment Instructions\n",
    "\n",
    "**Work through the \"Python Basics\" sections, then complete the \"YOUR TURN\" cells and save and submit your notebook to Gradescope.** You are encouraged to edit all code cells and run them to better understand what the code is doing. You will only be graded on completion of the \"YOUR TURN\" cells. The \"Advanced\" concepts cells are optional.\n",
    "\n",
    "You can run a code cell by pressing the SHIFT + ENTER keys (simultaneously).\n",
    "\n",
    "Code lines that start with the `#` symbol are comments."
   ]
  },
  {
   "cell_type": "markdown",
   "metadata": {},
   "source": [
    "# Python Basics\n",
    "\n",
    "The purpose of this refresher is to provide a short intoduction to (or reminder of) some Python basics. Python is the programming language used in this course, and learning (remembering) how to use it and some best-practices will help you write good, readable code for this course.\n",
    "\n",
    "If you encounter a section that contains unfamiliar topics, do your best to brush up on these topics by searching for other tutorials and videos online that cover them more in-depth. Stackoverflow, Geeks for Geeks, and individual library documentation are all freely available, so make liberal use of these resources. Search engines are your friend here and no programmer would survive without them. If you have tried everything you can think of and exhauseted these resources, reach out to a friend or the TA for assistance.\n",
    "\n",
    "See the official [Python tutorial](https://docs.python.org/3/tutorial/) for more details."
   ]
  },
  {
   "cell_type": "markdown",
   "metadata": {},
   "source": [
    "## Basic Data Types and Variables\n",
    "Python does not require declaration of the type of variable when defining it. This means assigning variables is as easy as writing `VARIABLE_NAME = VARIABLE_VALUE`. Matlab handles variable type assignment similarly, but languages like C++ and C require explicit declaration of a variable's type before assigning a value."
   ]
  },
  {
   "cell_type": "code",
   "execution_count": null,
   "metadata": {
    "ExecuteTime": {
     "end_time": "2020-08-25T19:06:04.771716Z",
     "start_time": "2020-08-25T19:06:04.765731Z"
    }
   },
   "outputs": [],
   "source": [
    "# assigning variables in Python is as easy as\n",
    "a = 2\n",
    "b = 3.0\n",
    "c = \"hello world\"\n",
    "\n",
    "# you can also assign multiple variables at the same time\n",
    "x, y = 1.0, 2.0\n",
    "\n",
    "print(a)\n",
    "print(b)\n",
    "print(c)\n",
    "print(x)"
   ]
  },
  {
   "cell_type": "code",
   "execution_count": null,
   "metadata": {
    "ExecuteTime": {
     "end_time": "2020-08-25T19:06:05.041994Z",
     "start_time": "2020-08-25T19:06:05.032020Z"
    }
   },
   "outputs": [],
   "source": [
    "# common data types include\n",
    "# integers\n",
    "print(type(a))\n",
    "\n",
    "# floating-point numbers (used for decimals)\n",
    "print(type(b))\n",
    "\n",
    "# strings (used for text)\n",
    "print(type(c))\n"
   ]
  },
  {
   "cell_type": "code",
   "execution_count": null,
   "metadata": {
    "ExecuteTime": {
     "end_time": "2020-08-25T19:06:05.193587Z",
     "start_time": "2020-08-25T19:06:05.184612Z"
    }
   },
   "outputs": [],
   "source": [
    "# different data types can interact with each other\n",
    "# you can add, subtract, multiply, divide with ints and floats\n",
    "print(a + b)\n",
    "print(a - b)\n",
    "print(a * b)\n",
    "print(a / b)\n",
    "\n",
    "# you can also take powers of ints and floats\n",
    "print(a**2)\n"
   ]
  },
  {
   "cell_type": "code",
   "execution_count": null,
   "metadata": {
    "ExecuteTime": {
     "end_time": "2020-08-25T16:36:20.761585Z",
     "start_time": "2020-08-25T16:36:20.755636Z"
    }
   },
   "outputs": [],
   "source": [
    "# numbers can be rounded \"toward zero\" using int(x), or rounded the normal way using round(x)\n",
    "print(2*a/b)\n",
    "print(int(2*a/b), \"   \", round(2*a/b))\n",
    "print(a/b)\n",
    "print(int(a/b), \"   \", round(a/b))\n"
   ]
  },
  {
   "cell_type": "code",
   "execution_count": null,
   "metadata": {
    "ExecuteTime": {
     "end_time": "2020-08-25T18:05:32.825765Z",
     "start_time": "2020-08-25T18:05:32.820772Z"
    }
   },
   "outputs": [],
   "source": [
    "# you can add (concatenate) strings as well\n",
    "str_1 = \"hello\"\n",
    "str_2 = \" world\"\n",
    "\n",
    "print(str_1 + str_2)"
   ]
  },
  {
   "cell_type": "markdown",
   "metadata": {},
   "source": [
    "## More Complex Data Types"
   ]
  },
  {
   "cell_type": "code",
   "execution_count": null,
   "metadata": {
    "ExecuteTime": {
     "end_time": "2020-08-25T17:00:30.327975Z",
     "start_time": "2020-08-25T17:00:30.317964Z"
    }
   },
   "outputs": [],
   "source": [
    "# lists are a very useful data structure in Python\n",
    "a = []\n",
    "\n",
    "# a is currently an empty list\n",
    "print(len(a))\n",
    "\n",
    "# adding elements to lists is easy\n",
    "a.append(1.0)\n",
    "print(a)\n",
    "\n",
    "# let's see how many items are contained in the list \n",
    "print(len(a))\n",
    "\n",
    "# list comprehensions can make adding many elements to a list easy\n",
    "a = [x**2 for x in range(0, 10)]\n",
    "print(a)\n",
    "\n",
    "# the above list comprehension could also be written long-form as\n",
    "a = []\n",
    "for i in range(0, 10):\n",
    "    a.append(i**2)\n",
    "print(a)\n"
   ]
  },
  {
   "cell_type": "code",
   "execution_count": null,
   "metadata": {
    "ExecuteTime": {
     "end_time": "2020-08-25T17:03:37.904380Z",
     "start_time": "2020-08-25T17:03:37.898395Z"
    }
   },
   "outputs": [],
   "source": [
    "# we can slice lists to pick out particular elements\n",
    "# remember, Python is 0-indexed (unlike Matlab, which is 1-indexed)\n",
    "start_idx = 0\n",
    "end_idx = 7 # non-inclusive\n",
    "\n",
    "# choose a single element of the list\n",
    "b = a[start_idx]\n",
    "print(b)\n",
    "\n",
    "# choose a subset of the list\n",
    "b = a[start_idx:end_idx]\n",
    "print(b)\n",
    "\n",
    "# you can also index from the end of a list using a negative index\n",
    "b = a[-3:]\n",
    "print(b)\n"
   ]
  },
  {
   "cell_type": "markdown",
   "metadata": {},
   "source": [
    "## Loops and Control Statements\n",
    "\n",
    "Loops and Control Statements form the backbone of any program that is worth using. Internet browsers, control systems, smartphone apps, and more are built on using loops to automate certain aspects of the program. Similarly, control statements, like `if`, `else`, `and`, `or`, `&` (the bitwise and operator), `|` (the bitwise or operator) allow you to implement logical decisions in your code.\n"
   ]
  },
  {
   "cell_type": "code",
   "execution_count": null,
   "metadata": {},
   "outputs": [],
   "source": [
    "# we saw earlier that a for loop can be used to easily populate a list with elements\n",
    "# let's add some control statements to pick out only the items we want to add to the list\n",
    "\n",
    "# before running this code, carefully read through it and try to figure out what the lists a and b will look like\n",
    "# after the loop is complete\n",
    "a = []\n",
    "b = []\n",
    "\n",
    "for i in range(0, 10):\n",
    "    # check if the current number is divisible by 2 using the modulo (%) operator\n",
    "    # the == operator checks for equality, and returns a boolean True or False\n",
    "    # if the statement contained within the () is True, the lines in the indent will be \n",
    "    if (i % 2 == 0):\n",
    "        a.append(i)\n",
    "    \n",
    "    # the != operator checks for inequality\n",
    "    # in English, this statement would be written as \"else if the number i is not divisible by 3\"\n",
    "    elif (i % 3 != 0):\n",
    "        a.append(i)\n",
    "    \n",
    "    else:\n",
    "        b.append(i)\n",
    "\n",
    "print(a)\n",
    "print(b)"
   ]
  },
  {
   "cell_type": "code",
   "execution_count": null,
   "metadata": {},
   "outputs": [],
   "source": [
    "# this loop is like the one above, but we've switched the for loop for a while loop\n",
    "# while loops are useful for creating infinitely running loops that only stop after some condition is met\n",
    "# the \"break\" and \"continue\" statements are used to control the loop.\n",
    "\n",
    "# how will lists a and b look after running this new loop?\n",
    "a = []\n",
    "b = []\n",
    "i = 0\n",
    "while i < 10:\n",
    "    # check if the current number is divisible by 2 using the modulo (%) operator\n",
    "    # the == operator checks for equality, and returns a boolean True or False\n",
    "    # if the statement contained within the () is True, the lines in the indent will be \n",
    "    if (i % 2 == 0):\n",
    "        a.append(i)\n",
    "    \n",
    "    # the != operator checks for inequality\n",
    "    # in English, this statement would be written as \"else if the number i is not divisible by 3\"\n",
    "    elif (i % 3 != 0):\n",
    "        a.append(i)\n",
    "\n",
    "    else:\n",
    "        b.append(i)\n",
    "    \n",
    "    # exit the loop when some condition is met\n",
    "    if (i >= 5):\n",
    "        break\n",
    "\n",
    "    i += 1\n",
    "    \n",
    "print(a)\n",
    "print(b)"
   ]
  },
  {
   "cell_type": "code",
   "execution_count": null,
   "metadata": {},
   "outputs": [],
   "source": [
    "# list comprehensions can sometimes be used in place of simple for loops (recall the following example from \"More Complex Data Types\")\n",
    "a = [x**2 for x in range(0, 10)]\n",
    "print(a)"
   ]
  },
  {
   "cell_type": "markdown",
   "metadata": {},
   "source": [
    "## Functions and Variable Scope\n",
    "\n",
    "So far, we have used several functions from the Python standard library including `print`, `len`, `int`, and `round`. You can also create your own custom functions, which are critical to writing easy-to-debug, re-usable code.\n",
    "\n",
    "When writing functions is it important to break tasks down into smaller sub-tasks. Once you have the smallest possible action you can take on your data, create a function that carries out this action. Then, you can build up larger chains of actions from these elementary functions you've written.\n"
   ]
  },
  {
   "cell_type": "code",
   "execution_count": null,
   "metadata": {
    "ExecuteTime": {
     "end_time": "2020-08-25T18:58:39.141074Z",
     "start_time": "2020-08-25T18:58:39.128112Z"
    }
   },
   "outputs": [],
   "source": [
    "# writing functions in Python is easy\n",
    "# don't forget to indent the function code, indenting is a critical part of Python's syntax \n",
    "def my_function():\n",
    "    # the scope of the `a1` variable is referred to as \"local\"\n",
    "    # i.e., this variable cannot be referenced outside this function's code\n",
    "    a1 = 1\n",
    "    return 2 * a1\n",
    "\n",
    "# functions can also have multiple inputs (known as arguments)\n",
    "def my_function_2(arg1, arg2, arg3=1):\n",
    "    # args 1 and 2 are required for this function to run\n",
    "    # arg 3 is optional, if it is not defined, it will take the default value of 1 (defined in the function definition)\n",
    "    return arg1 + arg2 + arg3\n",
    "\n",
    "def my_function_3(arg1, arg2):\n",
    "    return\n",
    "    # functions will exit after a return statement, any lines after the return statement will not be executed \n",
    "    print(arg1, arg2)\n",
    "\n",
    "# the scope of the \"func_output\" variable is referred to as \"global\"\n",
    "# i.e., it can be referenced by any function\n",
    "func_output = my_function()\n",
    "print(func_output)\n",
    "\n",
    "func_2_output = my_function_2(1, 2) \n",
    "print(func_2_output)\n",
    "\n",
    "func_2_output_optional = my_function_2(1, 2, 3)\n",
    "print(func_2_output_optional)\n",
    "\n",
    "func_3_output = my_function_3(1, 2)\n",
    "print(func_3_output)"
   ]
  },
  {
   "cell_type": "markdown",
   "metadata": {},
   "source": [
    "In standard Python, you must define a variable first, then you can use it in calculations. However in Jupyter notebooks, variables are kept in memory (similar to Matlab) until the kernel is reset. This can cause issues, especially with global variables, where you expect a variable to take one value, but the old value is still in your computer memory.\n",
    "\n",
    "If you want to clear all variables from the memory, click on the Kernel button at the top of the screen and click the \"Reset\" button.\n"
   ]
  },
  {
   "cell_type": "code",
   "execution_count": null,
   "metadata": {
    "ExecuteTime": {
     "end_time": "2020-08-25T18:53:12.037360Z",
     "start_time": "2020-08-25T18:53:12.030382Z"
    },
    "scrolled": true
   },
   "outputs": [],
   "source": [
    "# this code will not run because a1 is not defined beyond the scope of the `my_function` function\n",
    "print(a1)"
   ]
  },
  {
   "cell_type": "code",
   "execution_count": 13,
   "metadata": {
    "ExecuteTime": {
     "end_time": "2020-08-25T18:53:09.846957Z",
     "start_time": "2020-08-25T18:53:09.841898Z"
    }
   },
   "outputs": [],
   "source": [
    "# however, if you run this cell, then try running the cell above, it will now run!\n",
    "# this is because you have now defined `a1` as a \"global\" variable within this notebook\n",
    "a1 = 5.0"
   ]
  },
  {
   "cell_type": "markdown",
   "metadata": {},
   "source": [
    "## Libraries / Modules \n",
    "\n",
    "Python's functionality can be extended through the use of external libraries (also referred to as modules).\n",
    "\n",
    "While you can implement your own versions of basic mathematical functions and classes, most people don't need to implement their own versions for most engineering purposes. Instead, highly-optimized implementations exist in the form of libraries. For scientific calculations, `numpy` provides Python with almost all of the same functionality that comes with Matlab.\n",
    "\n",
    "If you are using the default Conda environmeent, most (if not all) of the Python libraries you will need should already be installed.\n",
    "\n",
    "If you are using a project-specific Conda environment, you may need to install the `numpy` package, for example using `conda install numpy`."
   ]
  },
  {
   "cell_type": "code",
   "execution_count": null,
   "metadata": {
    "ExecuteTime": {
     "end_time": "2020-08-25T19:03:44.499314Z",
     "start_time": "2020-08-25T19:03:42.805202Z"
    }
   },
   "outputs": [],
   "source": [
    "# to use external libraries, simply import them\n",
    "# the \"as\" part of the import statement allows you to rename the library as you import it\n",
    "import numpy as np\n",
    "\n",
    "# numpy arrays are like lists, but you can create mulit-dimensional arrays to efficiently store data\n",
    "arr1 = np.array([1, 2, 3, 4])\n",
    "print(arr1)\n",
    "print(type(arr1))"
   ]
  },
  {
   "cell_type": "code",
   "execution_count": null,
   "metadata": {},
   "outputs": [],
   "source": [
    "# you can also easily create arrays using np.linspace or np.arange\n",
    "arr2 = np.linspace(start=0, stop=10, num=5)\n",
    "arr3 = np.arange(start=0, stop=5, step=0.1)\n",
    "print(arr2)\n",
    "print(arr3)\n",
    "\n",
    "# note that we did not need to \"re-import\" the numpy library for this cell, since the previous code cell already imported it for this notebook\n",
    "# (we will need to re-import libraries if the notebook is restarted)"
   ]
  },
  {
   "cell_type": "markdown",
   "metadata": {},
   "source": [
    "`numpy` and `matplotlib.pyplot`, as well as other key libraries like `pandas` (for handling data), `scikitlearn` (for basic statistical models), and `pytorch` (for deep learning models) are critical tools used every day to help solve engineering problems.\n",
    "\n"
   ]
  },
  {
   "cell_type": "markdown",
   "metadata": {},
   "source": [
    "## Plotting in Python\n",
    "\n",
    "For plotting, `matplotlib.pyplot` provides Python with almost all of the same functionality that comes with Matlab. A good tutorial (with example code) for plotting with `pyplot` is available here: https://matplotlib.org/stable/tutorials/introductory/pyplot.html#sphx-glr-tutorials-introductory-pyplot-py.\n"
   ]
  },
  {
   "cell_type": "code",
   "execution_count": null,
   "metadata": {},
   "outputs": [],
   "source": [
    "# import the pyplot library\n",
    "import matplotlib.pyplot as plt\n",
    "\n",
    "# create a list of data to plot\n",
    "y = np.array([5, 10, 20, 40])\n",
    "x = np.arange(len(y))\n",
    "print('x values:', x)\n",
    "print('y values:', y)\n",
    "\n",
    "# creating a line plot is easy!\n",
    "plt.plot(x, y)\n",
    "plt.show()  # ensures the line plot is shown without being overwritten by the scatterplot below (see what happens if you run this cell with this line commented out)\n",
    "\n",
    "# creating a scatterplot is easy too!\n",
    "plt.scatter(x, y)"
   ]
  },
  {
   "cell_type": "code",
   "execution_count": null,
   "metadata": {},
   "outputs": [],
   "source": [
    "# now let's format our figure to look nicer\n",
    "plt.style.use('default')  # you can change the style background using this command (examples found here: https://matplotlib.org/stable/gallery/style_sheets/style_sheets_reference.html)\n",
    "fig = plt.figure(figsize=(4, 3))  # create an empty figure with width = 4\" and height = 3\"\n",
    "ax = fig.add_subplot(111)  # add a set of subplot axes to the figure (1 row, 1 column, index of 1)\n",
    "ax.plot(x, y, 'ro--')  # add a line plot to the figure axis with red 'o' markers and a '--' dashed line\n",
    "\n",
    "# adjust formatting\n",
    "ax.set_xlabel('# of AE370 Lectures Attended')\n",
    "ax.set_ylabel('Amazing Knowledge Obtained')\n",
    "ax.set_xticks([0, 1, 2, 3])  # set x tick labels shown\n",
    "# ax.set_xticks(x)  # this would also work"
   ]
  },
  {
   "cell_type": "code",
   "execution_count": null,
   "metadata": {},
   "outputs": [],
   "source": [
    "# now let's plot multiple series on a plot\n",
    "\n",
    "# same plot as before\n",
    "fig = plt.figure(figsize=(4, 3))  # create an empty figure with width = 4\" and height = 3\"\n",
    "ax = fig.add_subplot(111)  # add a set of subplot axes to the figure (1 row, 1 column, index of 1)\n",
    "ax.plot(x, y, 'ro--', label='Taught by Andres')  # add a line plot to the figure axis with red 'o' markers and a '--' dashed line\n",
    "ax.set_xlabel('# of AE370 Lectures Attended')\n",
    "ax.set_ylabel('Amazing Knowledge Obtained')\n",
    "ax.set_xticks([0, 1, 2, 3])  # set x tick labels shown\n",
    "\n",
    "# add second series\n",
    "y2 = y + 10  # create a second data set (series) to plot (assuming the same x-values)\n",
    "ax.plot(x, y2, 'go-', label='Taught by Huy')  # add a line plot to the figure axis with red 'o' markers and a '--' dashed line\n",
    "ax.legend()  # add legend"
   ]
  },
  {
   "cell_type": "code",
   "execution_count": null,
   "metadata": {},
   "outputs": [],
   "source": [
    "# now let's create a subplot with multiple plots and save it\n",
    "\n",
    "# create figure and add first subplot\n",
    "fig = plt.figure(figsize=(6, 4))\n",
    "ax1 = fig.add_subplot(121)  # note that the # of columns = 2 this time\n",
    "ax1.plot(x, y)\n",
    "ax1.set_xlabel('# of AE370 Lectures Attended')\n",
    "ax1.set_ylabel('Amazing Knowledge Obtained')\n",
    "ax1.set_xticks([0, 1, 2, 3])  # set x tick labels shown}\n",
    "\n",
    "# add second subplot\n",
    "ax2 = fig.add_subplot(122)  # note that the index = 2 this time\n",
    "ax2.plot(x, y, 'ro')\n",
    "ax2.set_xlabel('# of AE370 Lectures Attended')\n",
    "\n",
    "# save figure\n",
    "fig.savefig('tutorial-figure.png')"
   ]
  },
  {
   "cell_type": "markdown",
   "metadata": {},
   "source": [
    "# YOUR TURN\n",
    "\n",
    "Complete the following parts. You can test your functions by running the assertion cells below them. If no error appears, then your function passed the test!"
   ]
  },
  {
   "cell_type": "markdown",
   "metadata": {},
   "source": [
    "## Part 1: Functions\n",
    "\n",
    "Complete the following cell by writing a function to square the input argument. The comments at the top of the function define the purpose, input arguments, and outputs of the function. This documentation style is known as [NumPy docstring](https://numpydoc.readthedocs.io/en/latest/format.html#docstring-standard)."
   ]
  },
  {
   "cell_type": "code",
   "execution_count": 32,
   "metadata": {
    "tags": [
     "part1"
    ]
   },
   "outputs": [],
   "source": [
    "def square(x):\n",
    "    \"\"\"A function that returns the square of x.\n",
    "    \n",
    "    Parameters\n",
    "    ----------\n",
    "    x : float_like\n",
    "        Input argument to be squared\n",
    "        \n",
    "    Returns\n",
    "    -------\n",
    "    x2 : float_like\n",
    "        Square of x (i.e., x^2)\n",
    "    \n",
    "    \"\"\"\n",
    "    \n",
    "    ### YOUR CODE HERE ###\n",
    "    "
   ]
  },
  {
   "cell_type": "code",
   "execution_count": null,
   "metadata": {},
   "outputs": [],
   "source": [
    "\"\"\"Check the function\"\"\"\n",
    "\n",
    "test_input = 5\n",
    "test_output = square(test_input)\n",
    "\n",
    "# check output\n",
    "assert test_output == 25\n",
    "print('x: ', test_input)\n",
    "print('y: ', test_output)\n",
    "print('TESTS PASSED')"
   ]
  },
  {
   "cell_type": "markdown",
   "metadata": {},
   "source": [
    "## Part 2: For Loops\n",
    "\n",
    "Complete the following cell by writing a function to return the square of each element in an input list. You can do this using a for loop or list comprehension."
   ]
  },
  {
   "cell_type": "code",
   "execution_count": 34,
   "metadata": {
    "tags": [
     "part2"
    ]
   },
   "outputs": [],
   "source": [
    "def square_list(x_list):\n",
    "    \"\"\"A function that returns the square of each element in x_list.\n",
    "    \n",
    "    Parameters\n",
    "    ----------\n",
    "    x_list : list_like\n",
    "        Input list of elements to be squared\n",
    "        \n",
    "    Returns\n",
    "    -------\n",
    "    x2_list : list_like\n",
    "        List of each element of x squared (i.e., [x_1^2, x_2^2, ..., x_n^2)\n",
    "    \n",
    "    \"\"\"\n",
    "    \n",
    "    ### YOUR CODE HERE ###\n",
    "    "
   ]
  },
  {
   "cell_type": "code",
   "execution_count": null,
   "metadata": {},
   "outputs": [],
   "source": [
    "\"\"\"Check the function\"\"\"\n",
    "\n",
    "test_input = [1, 2, 3, 4, 5]\n",
    "test_output = square_list(test_input)\n",
    "\n",
    "# check output\n",
    "assert test_output == [1, 4, 9, 16, 25]\n",
    "print('x: ', test_input)\n",
    "print('y: ', test_output)\n",
    "print('TESTS PASSED')"
   ]
  },
  {
   "cell_type": "markdown",
   "metadata": {},
   "source": [
    "## Part 3: Plotting\n",
    "Complete the following cell by writing code to create a figure with 2 plots of the function $f(x) = x^2$. The left plot should show the function in a linear scale. The right plot should show the function in a log-log scale.\n",
    "\n",
    "Use 50 equally spaced points in the interval $x \\in [1, 100]$ for both plots.\n",
    "\n",
    "Make sure you label your axes and add meaningful subplot titles. See the `part3-solution.png` file for an example solution figure.\n",
    "\n",
    "Hint: see the pyplot documentation for xscale for plotting in a log scale (https://matplotlib.org/stable/api/_as_gen/matplotlib.pyplot.xscale.html)."
   ]
  },
  {
   "cell_type": "code",
   "execution_count": null,
   "metadata": {
    "tags": [
     "part3"
    ]
   },
   "outputs": [],
   "source": [
    "### YOUR CODE HERE ###\n"
   ]
  },
  {
   "cell_type": "markdown",
   "metadata": {},
   "source": [
    "## Part 4: Submission\n",
    "Save your notebook and submit it on Gradescope (as a `.ipynb` file). Make sure your run your submitted code cells and their assertion cells (i.e., the outputs are available in your submission) before saving."
   ]
  },
  {
   "cell_type": "markdown",
   "metadata": {},
   "source": [
    "# Advanced Topics (Optional)"
   ]
  },
  {
   "cell_type": "markdown",
   "metadata": {},
   "source": [
    "## Classes\n",
    "Classes are a way of creating custom objects in Python. They allow you to create abstract data structures that can be used in many different situations.\n",
    "\n",
    "Lists are an example of a custom class that is defined in the Python source code. You can create your own custom objects easily too.\n"
   ]
  },
  {
   "cell_type": "code",
   "execution_count": 37,
   "metadata": {
    "ExecuteTime": {
     "end_time": "2020-08-25T16:20:30.044871Z",
     "start_time": "2020-08-25T16:20:30.031908Z"
    }
   },
   "outputs": [],
   "source": [
    "# let's create a class for an airplane\n",
    "class airplane(object):\n",
    "    \n",
    "    # the __init__ function is used to process arguments when instantiating a class (see below)\n",
    "    def __init__(self, wing_span, wing_area):\n",
    "        \n",
    "        # attributes of the class\n",
    "        self.wing_span = wing_span\n",
    "        self.wing_area = wing_area\n",
    "        \n",
    "        # this line uses a method (see below) to automatically calculate the wing aspect ratio when this class is instantiated\n",
    "        self.aspect_ratio = self.calculate_aspect_ratio(self.wing_span, self.wing_area)\n",
    "\n",
    "    # methods are functions defined within the scope of a class\n",
    "    # you must be mindful of scoping within classes, the first argument of a method is always \"self\", \n",
    "    # which tells Python that this function is associated with this particular class\n",
    "    # methods can be used anywhere within a class definition, even in the __init__ function\n",
    "    def calculate_aspect_ratio(self, wing_span, wing_area):\n",
    "        return wing_span ** 2 / wing_area\n"
   ]
  },
  {
   "cell_type": "code",
   "execution_count": null,
   "metadata": {
    "ExecuteTime": {
     "end_time": "2020-08-25T16:26:11.265257Z",
     "start_time": "2020-08-25T16:26:11.255246Z"
    }
   },
   "outputs": [],
   "source": [
    "# now we can create an instance of the airplane class\n",
    "# a class instance is the result of assigning real values to the abstract class\n",
    "# the process of creating an instance is known as \"instantiating\" the class\n",
    "boeing_747 = airplane(68.4, 524.9)\n",
    "print(\"Boeing 747 Wing Span\", boeing_747.wing_span, \"meters\")\n",
    "print(\"Boeing 747 Wing Area\", boeing_747.wing_area, \"meters^2\")\n",
    "print(\"Boeing 747 Aspect Ratio\", boeing_747.aspect_ratio)\n",
    "\n",
    "# classes allow us to easily create many different airplanes\n",
    "# the automation of the aspect ratio calculation in the __init__ function means we never have to \n",
    "# perform this calculation manually\n",
    "piper_140 = airplane(10.7, 15.8) \n",
    "print(\"Piper 140 Wing Span\", piper_140.wing_span, \"meters\")\n",
    "print(\"Piper 140 Wing Area\", piper_140.wing_area, \"meters^2\")\n",
    "print(\"Piper 140 Aspect Ratio\", piper_140.aspect_ratio)\n"
   ]
  }
 ],
 "metadata": {
  "celltoolbar": "Tags",
  "kernelspec": {
   "display_name": "computing-readiness",
   "language": "python",
   "name": "python3"
  },
  "language_info": {
   "codemirror_mode": {
    "name": "ipython",
    "version": 3
   },
   "file_extension": ".py",
   "mimetype": "text/x-python",
   "name": "python",
   "nbconvert_exporter": "python",
   "pygments_lexer": "ipython3",
   "version": "3.11.11"
  },
  "toc": {
   "base_numbering": 1,
   "nav_menu": {},
   "number_sections": true,
   "sideBar": true,
   "skip_h1_title": false,
   "title_cell": "Table of Contents",
   "title_sidebar": "Contents",
   "toc_cell": false,
   "toc_position": {},
   "toc_section_display": true,
   "toc_window_display": false
  },
  "varInspector": {
   "cols": {
    "lenName": 16,
    "lenType": 16,
    "lenVar": 40
   },
   "kernels_config": {
    "python": {
     "delete_cmd_postfix": "",
     "delete_cmd_prefix": "del ",
     "library": "var_list.py",
     "varRefreshCmd": "print(var_dic_list())"
    },
    "r": {
     "delete_cmd_postfix": ") ",
     "delete_cmd_prefix": "rm(",
     "library": "var_list.r",
     "varRefreshCmd": "cat(var_dic_list()) "
    }
   },
   "types_to_exclude": [
    "module",
    "function",
    "builtin_function_or_method",
    "instance",
    "_Feature"
   ],
   "window_display": false
  }
 },
 "nbformat": 4,
 "nbformat_minor": 2
}
